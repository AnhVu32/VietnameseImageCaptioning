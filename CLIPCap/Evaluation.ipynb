{
 "cells": [
  {
   "cell_type": "markdown",
   "id": "ea05f241",
   "metadata": {
    "papermill": {
     "duration": 0.005922,
     "end_time": "2025-01-02T23:01:32.542792",
     "exception": false,
     "start_time": "2025-01-02T23:01:32.536870",
     "status": "completed"
    },
    "tags": []
   },
   "source": [
    "# Import Librariees"
   ]
  },
  {
   "cell_type": "code",
   "execution_count": 1,
   "id": "2c7c7573",
   "metadata": {
    "execution": {
     "iopub.execute_input": "2025-01-02T23:01:32.552860Z",
     "iopub.status.busy": "2025-01-02T23:01:32.552525Z",
     "iopub.status.idle": "2025-01-02T23:01:37.153448Z",
     "shell.execute_reply": "2025-01-02T23:01:37.152691Z"
    },
    "papermill": {
     "duration": 4.607766,
     "end_time": "2025-01-02T23:01:37.155035",
     "exception": false,
     "start_time": "2025-01-02T23:01:32.547269",
     "status": "completed"
    },
    "tags": []
   },
   "outputs": [],
   "source": [
    "import numpy as np\n",
    "import json\n",
    "import torch\n",
    "from torch.utils.data import DataLoader\n",
    "from nltk.translate.bleu_score import sentence_bleu, SmoothingFunction"
   ]
  },
  {
   "cell_type": "code",
   "execution_count": 2,
   "id": "c3d00b08",
   "metadata": {
    "execution": {
     "iopub.execute_input": "2025-01-02T23:01:37.164488Z",
     "iopub.status.busy": "2025-01-02T23:01:37.164091Z",
     "iopub.status.idle": "2025-01-02T23:01:37.167281Z",
     "shell.execute_reply": "2025-01-02T23:01:37.166704Z"
    },
    "papermill": {
     "duration": 0.009105,
     "end_time": "2025-01-02T23:01:37.168552",
     "exception": false,
     "start_time": "2025-01-02T23:01:37.159447",
     "status": "completed"
    },
    "tags": []
   },
   "outputs": [],
   "source": [
    "import warnings\n",
    "warnings.simplefilter(action='ignore', category=FutureWarning)"
   ]
  },
  {
   "cell_type": "markdown",
   "id": "701b1c1c",
   "metadata": {
    "papermill": {
     "duration": 0.003887,
     "end_time": "2025-01-02T23:01:37.176681",
     "exception": false,
     "start_time": "2025-01-02T23:01:37.172794",
     "status": "completed"
    },
    "tags": []
   },
   "source": [
    "# Model Architecture"
   ]
  },
  {
   "cell_type": "code",
   "execution_count": 3,
   "id": "609bba4f",
   "metadata": {
    "execution": {
     "iopub.execute_input": "2025-01-02T23:01:37.185443Z",
     "iopub.status.busy": "2025-01-02T23:01:37.185148Z",
     "iopub.status.idle": "2025-01-02T23:01:39.281014Z",
     "shell.execute_reply": "2025-01-02T23:01:39.280295Z"
    },
    "papermill": {
     "duration": 2.102039,
     "end_time": "2025-01-02T23:01:39.282638",
     "exception": false,
     "start_time": "2025-01-02T23:01:37.180599",
     "status": "completed"
    },
    "tags": []
   },
   "outputs": [],
   "source": [
    "import torch\n",
    "import torch.nn as nn\n",
    "from transformers import (\n",
    "    GPT2LMHeadModel,\n",
    "    AdamW,\n",
    "    get_linear_schedule_with_warmup,\n",
    "    set_seed,\n",
    ")\n",
    "from tqdm import tqdm\n",
    "from typing import Tuple, Optional\n",
    "from accelerate import Accelerator\n",
    "\n",
    "class MLP(nn.Module):\n",
    "    def forward(self, x: torch.Tensor) -> torch.Tensor:\n",
    "        return self.model(x)\n",
    "\n",
    "    def __init__(self, sizes: Tuple[int, ...], bias=True, act=nn.Tanh):\n",
    "        \"\"\"Project clip output to embedding of first prefix_length tokens\"\"\"\n",
    "        super(MLP, self).__init__()\n",
    "        layers = []\n",
    "        for i in range(len(sizes) - 1):\n",
    "            layers.append(nn.Linear(sizes[i], sizes[i + 1], bias=bias))\n",
    "            if i < len(sizes) - 2:\n",
    "                layers.append(act())\n",
    "                # added some dropout here\n",
    "                layers.append(nn.Dropout(p=0.2))\n",
    "        self.model = nn.Sequential(*layers)\n",
    "\n",
    "\n",
    "class ClipCaptionModel(nn.Module):\n",
    "    def get_dummy_token(self, batch_size: int, device: torch.device) -> torch.Tensor:\n",
    "        \"\"\"Generate prefix tokens, shape Bxprefix_length\"\"\"\n",
    "        return torch.zeros(\n",
    "            batch_size, self.prefix_length, dtype=torch.int64, device=device\n",
    "        )\n",
    "\n",
    "    def forward(\n",
    "        self,\n",
    "        tokens: torch.Tensor,\n",
    "        prefix: torch.Tensor,\n",
    "        mask: Optional[torch.Tensor] = None,\n",
    "        labels: Optional[torch.Tensor] = None,\n",
    "    ):\n",
    "        embedding_text = self.gpt.transformer.wte(tokens)\n",
    "        prefix_projections = self.clip_project(prefix).view(\n",
    "            -1, self.prefix_length, self.gpt_embedding_size\n",
    "        )\n",
    "\n",
    "        embedding_cat = torch.cat((prefix_projections, embedding_text), dim=1)\n",
    "        if labels is not None:\n",
    "            dummy_token = self.get_dummy_token(tokens.shape[0], tokens.device)\n",
    "            labels = torch.cat((dummy_token, tokens), dim=1)\n",
    "        out = self.gpt(inputs_embeds=embedding_cat, labels=labels, attention_mask=mask)\n",
    "        return out\n",
    "\n",
    "    def __init__(self, prefix_length: int = 10, prefix_size: int = 512):\n",
    "        super(ClipCaptionModel, self).__init__()\n",
    "        self.prefix_length = prefix_length\n",
    "        self.gpt = GPT2LMHeadModel.from_pretrained(\"imthanhlv/gpt2news\")\n",
    "        self.gpt_embedding_size = self.gpt.transformer.wte.weight.shape[1]\n",
    "        self.clip_project = MLP(\n",
    "            (\n",
    "                prefix_size,\n",
    "                (self.gpt_embedding_size * prefix_length) // 2,\n",
    "                self.gpt_embedding_size * prefix_length,\n",
    "            )\n",
    "        )\n",
    "\n",
    "\n",
    "class ClipCaptionPrefix(ClipCaptionModel):\n",
    "    def parameters(self, recurse: bool = True):\n",
    "        return self.clip_project.parameters()\n",
    "\n",
    "    def train(self, mode: bool = True):\n",
    "        super(ClipCaptionPrefix, self).train(mode)\n",
    "        self.gpt.eval()\n",
    "        return self"
   ]
  },
  {
   "cell_type": "markdown",
   "id": "69f68368",
   "metadata": {
    "papermill": {
     "duration": 0.004243,
     "end_time": "2025-01-02T23:01:39.291428",
     "exception": false,
     "start_time": "2025-01-02T23:01:39.287185",
     "status": "completed"
    },
    "tags": []
   },
   "source": [
    "# Dataset structure"
   ]
  },
  {
   "cell_type": "code",
   "execution_count": 4,
   "id": "d709e10e",
   "metadata": {
    "execution": {
     "iopub.execute_input": "2025-01-02T23:01:39.300647Z",
     "iopub.status.busy": "2025-01-02T23:01:39.300179Z",
     "iopub.status.idle": "2025-01-02T23:01:39.305357Z",
     "shell.execute_reply": "2025-01-02T23:01:39.304655Z"
    },
    "papermill": {
     "duration": 0.011215,
     "end_time": "2025-01-02T23:01:39.306738",
     "exception": false,
     "start_time": "2025-01-02T23:01:39.295523",
     "status": "completed"
    },
    "tags": []
   },
   "outputs": [],
   "source": [
    "class ClipDataset(torch.utils.data.Dataset):\n",
    "    def __init__(self, data_path, prefix_length):\n",
    "        # Load your data from the .pt file\n",
    "        data = torch.load(data_path)\n",
    "        self.tokens = data[\"target\"]  # Replace with your actual key for tokens\n",
    "        self.prefixes = data[\"clip_embedding\"]  # Replace with your actual key for prefixes\n",
    "        self.prefix_length = prefix_length\n",
    "        self.masks = [torch.ones(len(token)) for token in self.tokens]\n",
    "\n",
    "    def __len__(self):\n",
    "        return len(self.tokens)\n",
    "\n",
    "    def __getitem__(self, idx):\n",
    "        token = self.tokens[idx]\n",
    "        mask = self.masks[idx]\n",
    "        prefix = self.prefixes[idx].float()  # Chuyển đổi thành float\n",
    "        return token, mask, prefix"
   ]
  },
  {
   "cell_type": "markdown",
   "id": "a9ea521a",
   "metadata": {
    "papermill": {
     "duration": 0.003906,
     "end_time": "2025-01-02T23:01:39.314765",
     "exception": false,
     "start_time": "2025-01-02T23:01:39.310859",
     "status": "completed"
    },
    "tags": []
   },
   "source": [
    "# Function"
   ]
  },
  {
   "cell_type": "code",
   "execution_count": 5,
   "id": "c702b781",
   "metadata": {
    "execution": {
     "iopub.execute_input": "2025-01-02T23:01:39.323797Z",
     "iopub.status.busy": "2025-01-02T23:01:39.323523Z",
     "iopub.status.idle": "2025-01-02T23:01:39.334326Z",
     "shell.execute_reply": "2025-01-02T23:01:39.333542Z"
    },
    "papermill": {
     "duration": 0.016847,
     "end_time": "2025-01-02T23:01:39.335493",
     "exception": false,
     "start_time": "2025-01-02T23:01:39.318646",
     "status": "completed"
    },
    "tags": []
   },
   "outputs": [],
   "source": [
    "def generate_beam(model, tokenizer, beam_size: int = 5, prompt=None, embed=None,\n",
    "                  entry_length=67, temperature=1., stop_token: str = '.'):\n",
    "\n",
    "    model.eval()\n",
    "    stop_token_index = tokenizer.encode(stop_token)[0]\n",
    "#     stop_token_index = 0\n",
    "\n",
    "    tokens = None\n",
    "    scores = None\n",
    "    device = next(model.parameters()).device\n",
    "    seq_lengths = torch.ones(beam_size, device=device)\n",
    "    is_stopped = torch.zeros(beam_size, device=device, dtype=torch.bool)\n",
    "    with torch.no_grad():\n",
    "        if embed is not None:\n",
    "            generated = embed\n",
    "        else:\n",
    "            if tokens is None:\n",
    "                tokens = torch.tensor(tokenizer.encode(prompt))\n",
    "                tokens = tokens.unsqueeze(0).to(device)\n",
    "                generated = model.gpt.transformer.wte(tokens)\n",
    "        for i in range(entry_length):\n",
    "            outputs = model.gpt(inputs_embeds=generated)\n",
    "            logits = outputs.logits\n",
    "            logits = logits[:, -1, :] / (temperature if temperature > 0 else 1.0)\n",
    "            logits = logits.softmax(-1).log()\n",
    "            if scores is None:\n",
    "                scores, next_tokens = logits.topk(beam_size, -1)\n",
    "                generated = generated.expand(beam_size, *generated.shape[1:])\n",
    "                next_tokens, scores = next_tokens.permute(1, 0), scores.squeeze(0)\n",
    "                if tokens is None:\n",
    "                    tokens = next_tokens\n",
    "                else:\n",
    "                    tokens = tokens.expand(beam_size, *tokens.shape[1:])\n",
    "                    tokens = torch.cat((tokens, next_tokens), dim=1)\n",
    "            else:\n",
    "                logits[is_stopped] = -float(np.inf)\n",
    "                logits[is_stopped, 0] = 0\n",
    "                scores_sum = scores[:, None] + logits\n",
    "                seq_lengths[~is_stopped] += 1\n",
    "                scores_sum_average = scores_sum / seq_lengths[:, None]\n",
    "                scores_sum_average, next_tokens = scores_sum_average.view(-1).topk(beam_size, -1)\n",
    "                next_tokens_source = next_tokens // scores_sum.shape[1]\n",
    "                seq_lengths = seq_lengths[next_tokens_source]\n",
    "                next_tokens = next_tokens % scores_sum.shape[1]\n",
    "                next_tokens = next_tokens.unsqueeze(1)\n",
    "                tokens = tokens[next_tokens_source]\n",
    "                tokens = torch.cat((tokens, next_tokens), dim=1)\n",
    "                generated = generated[next_tokens_source]\n",
    "                scores = scores_sum_average * seq_lengths\n",
    "                is_stopped = is_stopped[next_tokens_source]\n",
    "            next_token_embed = model.gpt.transformer.wte(next_tokens.squeeze()).view(generated.shape[0], 1, -1)\n",
    "            generated = torch.cat((generated, next_token_embed), dim=1)\n",
    "            is_stopped = is_stopped + next_tokens.eq(stop_token_index).squeeze()\n",
    "            if is_stopped.all():\n",
    "                break\n",
    "    scores = scores / seq_lengths\n",
    "    output_list = tokens.cpu().numpy()\n",
    "    output_texts = [tokenizer.decode(output[:int(length)]) for output, length in zip(output_list, seq_lengths)]\n",
    "    order = scores.argsort(descending=True)\n",
    "    output_texts = [output_texts[i] for i in order]\n",
    "    cleaned_texts = [text.replace('<pad>', '').strip() for text in output_texts]\n",
    "    return cleaned_texts"
   ]
  },
  {
   "cell_type": "code",
   "execution_count": 6,
   "id": "e53f1428",
   "metadata": {
    "execution": {
     "iopub.execute_input": "2025-01-02T23:01:39.344143Z",
     "iopub.status.busy": "2025-01-02T23:01:39.343895Z",
     "iopub.status.idle": "2025-01-02T23:01:39.350314Z",
     "shell.execute_reply": "2025-01-02T23:01:39.349228Z"
    },
    "papermill": {
     "duration": 0.012285,
     "end_time": "2025-01-02T23:01:39.351778",
     "exception": false,
     "start_time": "2025-01-02T23:01:39.339493",
     "status": "completed"
    },
    "tags": []
   },
   "outputs": [],
   "source": [
    "def generate_references_and_hypotheses(model, tokenizer, test_loader, prefix_length, references_path, hypotheses_path):\n",
    "    \"\"\"\n",
    "    Generate references and hypotheses from the model and save them to separate files.\n",
    "    \"\"\"\n",
    "    model.eval()\n",
    "    device = next(model.parameters()).device\n",
    "\n",
    "    references = []\n",
    "    references_into_file = []\n",
    "    hypotheses = []\n",
    "    hypotheses_into_file = []\n",
    "\n",
    "    with torch.no_grad():\n",
    "        for tokens, masks, prefixes in test_loader:\n",
    "            tokens, masks, prefixes = tokens.to(device), masks.to(device), prefixes.to(device)\n",
    "\n",
    "            for idx in range(tokens.size(0)):\n",
    "                reference = tokenizer.decode(tokens[idx].cpu().numpy(), skip_special_tokens=True).split()\n",
    "                references.append(reference)\n",
    "                references_into_file.append(\" \".join(reference))  # Join reference into a string\n",
    "\n",
    "                prefix_embed = model.clip_project(prefixes[idx].unsqueeze(0)).reshape(1, prefix_length, -1)\n",
    "                hypothesis = generate_beam(\n",
    "                    model, tokenizer, embed=prefix_embed, temperature=1, beam_size=5\n",
    "                )[0].split()\n",
    "                hypotheses.append(hypothesis)\n",
    "                hypotheses_into_file.append(\" \".join(hypothesis))  # Join hypothesis into a string\n",
    "\n",
    "    # Save references to a file\n",
    "    with open(references_path, 'w', encoding='utf-8') as f:\n",
    "        json.dump(references_into_file, f, ensure_ascii=False, indent=4)\n",
    "\n",
    "    # Save hypotheses to a file\n",
    "    with open(hypotheses_path, 'w', encoding='utf-8') as f:\n",
    "        json.dump(hypotheses_into_file, f, ensure_ascii=False, indent=4)\n",
    "\n",
    "    return references, hypotheses"
   ]
  },
  {
   "cell_type": "markdown",
   "id": "b7f5dbf2",
   "metadata": {
    "papermill": {
     "duration": 0.003773,
     "end_time": "2025-01-02T23:01:39.359544",
     "exception": false,
     "start_time": "2025-01-02T23:01:39.355771",
     "status": "completed"
    },
    "tags": []
   },
   "source": [
    "# Preparation"
   ]
  },
  {
   "cell_type": "markdown",
   "id": "7df72053",
   "metadata": {
    "papermill": {
     "duration": 0.003637,
     "end_time": "2025-01-02T23:01:39.367167",
     "exception": false,
     "start_time": "2025-01-02T23:01:39.363530",
     "status": "completed"
    },
    "tags": []
   },
   "source": [
    "## Loading model"
   ]
  },
  {
   "cell_type": "code",
   "execution_count": 7,
   "id": "3bb2bd5b",
   "metadata": {
    "execution": {
     "iopub.execute_input": "2025-01-02T23:01:39.375839Z",
     "iopub.status.busy": "2025-01-02T23:01:39.375591Z",
     "iopub.status.idle": "2025-01-02T23:01:47.627363Z",
     "shell.execute_reply": "2025-01-02T23:01:47.626426Z"
    },
    "papermill": {
     "duration": 8.257879,
     "end_time": "2025-01-02T23:01:47.629085",
     "exception": false,
     "start_time": "2025-01-02T23:01:39.371206",
     "status": "completed"
    },
    "tags": []
   },
   "outputs": [
    {
     "data": {
      "application/vnd.jupyter.widget-view+json": {
       "model_id": "d315788476dd4823a923e50b47d3ff47",
       "version_major": 2,
       "version_minor": 0
      },
      "text/plain": [
       "config.json:   0%|          | 0.00/831 [00:00<?, ?B/s]"
      ]
     },
     "metadata": {},
     "output_type": "display_data"
    },
    {
     "data": {
      "application/vnd.jupyter.widget-view+json": {
       "model_id": "ae912bd145ba49a39a604e0b5cd9fd9b",
       "version_major": 2,
       "version_minor": 0
      },
      "text/plain": [
       "pytorch_model.bin:   0%|          | 0.00/510M [00:00<?, ?B/s]"
      ]
     },
     "metadata": {},
     "output_type": "display_data"
    }
   ],
   "source": [
    "CPU = torch.device('cpu')\n",
    "model = ClipCaptionPrefix(10)\n",
    "\n",
    "model_path = \"/kaggle/input/cs420-final/checkpoints/best_model.pt\"\n",
    "device = \"cuda:0\" if torch.cuda.is_available() else CPU\n",
    "model.load_state_dict(torch.load(model_path, map_location=device)) \n",
    "model = model.eval() \n",
    "model = model.to(device)"
   ]
  },
  {
   "cell_type": "markdown",
   "id": "a77b2e18",
   "metadata": {
    "papermill": {
     "duration": 0.004174,
     "end_time": "2025-01-02T23:01:47.638201",
     "exception": false,
     "start_time": "2025-01-02T23:01:47.634027",
     "status": "completed"
    },
    "tags": []
   },
   "source": [
    "## Loading tokenizer"
   ]
  },
  {
   "cell_type": "code",
   "execution_count": 8,
   "id": "e0800f9e",
   "metadata": {
    "execution": {
     "iopub.execute_input": "2025-01-02T23:01:47.652517Z",
     "iopub.status.busy": "2025-01-02T23:01:47.652007Z",
     "iopub.status.idle": "2025-01-02T23:01:48.689378Z",
     "shell.execute_reply": "2025-01-02T23:01:48.688412Z"
    },
    "papermill": {
     "duration": 1.045355,
     "end_time": "2025-01-02T23:01:48.691093",
     "exception": false,
     "start_time": "2025-01-02T23:01:47.645738",
     "status": "completed"
    },
    "tags": []
   },
   "outputs": [
    {
     "data": {
      "application/vnd.jupyter.widget-view+json": {
       "model_id": "2b81286773df4724abbe101d08ae5229",
       "version_major": 2,
       "version_minor": 0
      },
      "text/plain": [
       "tokenizer.json:   0%|          | 0.00/1.32M [00:00<?, ?B/s]"
      ]
     },
     "metadata": {},
     "output_type": "display_data"
    }
   ],
   "source": [
    "from transformers import AutoTokenizer\n",
    "tokenizer = AutoTokenizer.from_pretrained(\"imthanhlv/gpt2news\")"
   ]
  },
  {
   "cell_type": "markdown",
   "id": "110139fa",
   "metadata": {
    "papermill": {
     "duration": 0.004313,
     "end_time": "2025-01-02T23:01:48.700312",
     "exception": false,
     "start_time": "2025-01-02T23:01:48.695999",
     "status": "completed"
    },
    "tags": []
   },
   "source": [
    "## Loading test_loader"
   ]
  },
  {
   "cell_type": "code",
   "execution_count": 9,
   "id": "de24ace4",
   "metadata": {
    "execution": {
     "iopub.execute_input": "2025-01-02T23:01:48.710371Z",
     "iopub.status.busy": "2025-01-02T23:01:48.710082Z",
     "iopub.status.idle": "2025-01-02T23:01:48.761588Z",
     "shell.execute_reply": "2025-01-02T23:01:48.760952Z"
    },
    "papermill": {
     "duration": 0.058236,
     "end_time": "2025-01-02T23:01:48.763031",
     "exception": false,
     "start_time": "2025-01-02T23:01:48.704795",
     "status": "completed"
    },
    "tags": []
   },
   "outputs": [],
   "source": [
    "test_dataset = ClipDataset(\"/kaggle/input/cs420-final/embedding_images/ViT_B_16/test_img.pt\", 10)\n",
    "batch_size = 16\n",
    "test_loader = DataLoader(test_dataset, batch_size=batch_size, shuffle=False)"
   ]
  },
  {
   "cell_type": "markdown",
   "id": "83c36848",
   "metadata": {
    "papermill": {
     "duration": 0.004247,
     "end_time": "2025-01-02T23:01:48.772350",
     "exception": false,
     "start_time": "2025-01-02T23:01:48.768103",
     "status": "completed"
    },
    "tags": []
   },
   "source": [
    "# Predict"
   ]
  },
  {
   "cell_type": "code",
   "execution_count": 10,
   "id": "d8b6827d",
   "metadata": {
    "execution": {
     "iopub.execute_input": "2025-01-02T23:01:48.782015Z",
     "iopub.status.busy": "2025-01-02T23:01:48.781753Z",
     "iopub.status.idle": "2025-01-02T23:43:27.588064Z",
     "shell.execute_reply": "2025-01-02T23:43:27.587157Z"
    },
    "papermill": {
     "duration": 2498.813308,
     "end_time": "2025-01-02T23:43:27.590047",
     "exception": false,
     "start_time": "2025-01-02T23:01:48.776739",
     "status": "completed"
    },
    "tags": []
   },
   "outputs": [],
   "source": [
    "references, hypotheses = generate_references_and_hypotheses(model, tokenizer, test_loader, prefix_length = 10, \n",
    "                                                            references_path = \"/kaggle/working/references.json\" , \n",
    "                                                            hypotheses_path = \"/kaggle/working/hypotheses.json\")"
   ]
  },
  {
   "cell_type": "markdown",
   "id": "f9bc7aa2",
   "metadata": {
    "papermill": {
     "duration": 0.004297,
     "end_time": "2025-01-02T23:43:27.599985",
     "exception": false,
     "start_time": "2025-01-02T23:43:27.595688",
     "status": "completed"
    },
    "tags": []
   },
   "source": [
    "# Evaluation"
   ]
  },
  {
   "cell_type": "code",
   "execution_count": 11,
   "id": "a43c5aef",
   "metadata": {
    "execution": {
     "iopub.execute_input": "2025-01-02T23:43:27.610362Z",
     "iopub.status.busy": "2025-01-02T23:43:27.609921Z",
     "iopub.status.idle": "2025-01-02T23:43:27.613618Z",
     "shell.execute_reply": "2025-01-02T23:43:27.612806Z"
    },
    "papermill": {
     "duration": 0.00993,
     "end_time": "2025-01-02T23:43:27.614808",
     "exception": false,
     "start_time": "2025-01-02T23:43:27.604878",
     "status": "completed"
    },
    "tags": []
   },
   "outputs": [],
   "source": [
    "import json"
   ]
  },
  {
   "cell_type": "code",
   "execution_count": 12,
   "id": "916325c4",
   "metadata": {
    "execution": {
     "iopub.execute_input": "2025-01-02T23:43:27.624499Z",
     "iopub.status.busy": "2025-01-02T23:43:27.624203Z",
     "iopub.status.idle": "2025-01-02T23:43:27.628469Z",
     "shell.execute_reply": "2025-01-02T23:43:27.627671Z"
    },
    "papermill": {
     "duration": 0.010451,
     "end_time": "2025-01-02T23:43:27.629643",
     "exception": false,
     "start_time": "2025-01-02T23:43:27.619192",
     "status": "completed"
    },
    "tags": []
   },
   "outputs": [],
   "source": [
    "def read_json_file(filepath):\n",
    "  \"\"\"Reads a JSON file and returns its contents as a Python dictionary.\n",
    "\n",
    "  Args:\n",
    "    filepath: The path to the JSON file.\n",
    "\n",
    "  Returns:\n",
    "    A Python dictionary representing the JSON data, or None if an error occurs.\n",
    "  \"\"\"\n",
    "  try:\n",
    "    with open(filepath, 'r', encoding='utf-8') as file:\n",
    "      data = json.load(file)\n",
    "    return data\n",
    "  except FileNotFoundError:\n",
    "    print(f\"Error: File not found at {filepath}\")\n",
    "    return None\n",
    "  except json.JSONDecodeError:\n",
    "    print(f\"Error: Invalid JSON format in {filepath}\")\n",
    "    return None"
   ]
  },
  {
   "cell_type": "code",
   "execution_count": 13,
   "id": "c928602a",
   "metadata": {
    "execution": {
     "iopub.execute_input": "2025-01-02T23:43:27.639350Z",
     "iopub.status.busy": "2025-01-02T23:43:27.639078Z",
     "iopub.status.idle": "2025-01-02T23:43:27.644359Z",
     "shell.execute_reply": "2025-01-02T23:43:27.643587Z"
    },
    "papermill": {
     "duration": 0.011965,
     "end_time": "2025-01-02T23:43:27.645895",
     "exception": false,
     "start_time": "2025-01-02T23:43:27.633930",
     "status": "completed"
    },
    "tags": []
   },
   "outputs": [],
   "source": [
    "def transform_data(hypotheses_data, references_data, group_size=5):\n",
    "    hypotheses = []\n",
    "    for i in range(0, len(hypotheses_data), group_size):\n",
    "        hypotheses.append(hypotheses_data[i])  # Lấy mỗi nhóm 1 câu (câu đầu tiên)\n",
    "\n",
    "    references = []\n",
    "    for i in range(0, len(references_data), group_size):\n",
    "        references.append(references_data[i:i+group_size])  # Nhóm thành các danh sách con\n",
    "\n",
    "    return hypotheses, references"
   ]
  },
  {
   "cell_type": "code",
   "execution_count": 14,
   "id": "1f7d0939",
   "metadata": {
    "execution": {
     "iopub.execute_input": "2025-01-02T23:43:27.657781Z",
     "iopub.status.busy": "2025-01-02T23:43:27.657476Z",
     "iopub.status.idle": "2025-01-02T23:43:27.844619Z",
     "shell.execute_reply": "2025-01-02T23:43:27.843643Z"
    },
    "papermill": {
     "duration": 0.195408,
     "end_time": "2025-01-02T23:43:27.846367",
     "exception": false,
     "start_time": "2025-01-02T23:43:27.650959",
     "status": "completed"
    },
    "tags": []
   },
   "outputs": [],
   "source": [
    "hypotheses_filepath = \"/kaggle/working/hypotheses.json\"\n",
    "references_filepath = \"/kaggle/working/references.json\"\n",
    "\n",
    "hypotheses_data = read_json_file(hypotheses_filepath)\n",
    "references_data = read_json_file(references_filepath)\n",
    "hypotheses, references = transform_data(hypotheses_data, references_data)"
   ]
  },
  {
   "cell_type": "code",
   "execution_count": 15,
   "id": "b18501ff",
   "metadata": {
    "execution": {
     "iopub.execute_input": "2025-01-02T23:43:27.857271Z",
     "iopub.status.busy": "2025-01-02T23:43:27.856990Z",
     "iopub.status.idle": "2025-01-02T23:43:36.180354Z",
     "shell.execute_reply": "2025-01-02T23:43:36.179244Z"
    },
    "papermill": {
     "duration": 8.330338,
     "end_time": "2025-01-02T23:43:36.182024",
     "exception": false,
     "start_time": "2025-01-02T23:43:27.851686",
     "status": "completed"
    },
    "tags": []
   },
   "outputs": [
    {
     "name": "stdout",
     "output_type": "stream",
     "text": [
      "Requirement already satisfied: nltk in /usr/local/lib/python3.10/dist-packages (3.2.4)\r\n",
      "Collecting rouge-score\r\n",
      "  Downloading rouge_score-0.1.2.tar.gz (17 kB)\r\n",
      "  Preparing metadata (setup.py) ... \u001b[?25l\u001b[?25hdone\r\n",
      "Collecting pycocoevalcap\r\n",
      "  Downloading pycocoevalcap-1.2-py3-none-any.whl.metadata (3.2 kB)\r\n",
      "Requirement already satisfied: six in /usr/local/lib/python3.10/dist-packages (from nltk) (1.16.0)\r\n",
      "Requirement already satisfied: absl-py in /usr/local/lib/python3.10/dist-packages (from rouge-score) (1.4.0)\r\n",
      "Requirement already satisfied: numpy in /usr/local/lib/python3.10/dist-packages (from rouge-score) (1.26.4)\r\n",
      "Requirement already satisfied: pycocotools>=2.0.2 in /usr/local/lib/python3.10/dist-packages (from pycocoevalcap) (2.0.8)\r\n",
      "Requirement already satisfied: matplotlib>=2.1.0 in /usr/local/lib/python3.10/dist-packages (from pycocotools>=2.0.2->pycocoevalcap) (3.7.1)\r\n",
      "Requirement already satisfied: contourpy>=1.0.1 in /usr/local/lib/python3.10/dist-packages (from matplotlib>=2.1.0->pycocotools>=2.0.2->pycocoevalcap) (1.3.0)\r\n",
      "Requirement already satisfied: cycler>=0.10 in /usr/local/lib/python3.10/dist-packages (from matplotlib>=2.1.0->pycocotools>=2.0.2->pycocoevalcap) (0.12.1)\r\n",
      "Requirement already satisfied: fonttools>=4.22.0 in /usr/local/lib/python3.10/dist-packages (from matplotlib>=2.1.0->pycocotools>=2.0.2->pycocoevalcap) (4.53.1)\r\n",
      "Requirement already satisfied: kiwisolver>=1.0.1 in /usr/local/lib/python3.10/dist-packages (from matplotlib>=2.1.0->pycocotools>=2.0.2->pycocoevalcap) (1.4.7)\r\n",
      "Requirement already satisfied: packaging>=20.0 in /usr/local/lib/python3.10/dist-packages (from matplotlib>=2.1.0->pycocotools>=2.0.2->pycocoevalcap) (24.1)\r\n",
      "Requirement already satisfied: pillow>=6.2.0 in /usr/local/lib/python3.10/dist-packages (from matplotlib>=2.1.0->pycocotools>=2.0.2->pycocoevalcap) (10.4.0)\r\n",
      "Requirement already satisfied: pyparsing>=2.3.1 in /usr/local/lib/python3.10/dist-packages (from matplotlib>=2.1.0->pycocotools>=2.0.2->pycocoevalcap) (3.1.4)\r\n",
      "Requirement already satisfied: python-dateutil>=2.7 in /usr/local/lib/python3.10/dist-packages (from matplotlib>=2.1.0->pycocotools>=2.0.2->pycocoevalcap) (2.8.2)\r\n",
      "Downloading pycocoevalcap-1.2-py3-none-any.whl (104.3 MB)\r\n",
      "\u001b[2K   \u001b[90m━━━━━━━━━━━━━━━━━━━━━━━━━━━━━━━━━━━━━━━━\u001b[0m \u001b[32m104.3/104.3 MB\u001b[0m \u001b[31m16.3 MB/s\u001b[0m eta \u001b[36m0:00:00\u001b[0m\r\n",
      "\u001b[?25hBuilding wheels for collected packages: rouge-score\r\n",
      "  Building wheel for rouge-score (setup.py) ... \u001b[?25l\u001b[?25hdone\r\n",
      "  Created wheel for rouge-score: filename=rouge_score-0.1.2-py3-none-any.whl size=24935 sha256=78e8c0b26ee0ea055e65afc2db225e9f0ecfd7caa8774921585c613d3ddcca5b\r\n",
      "  Stored in directory: /root/.cache/pip/wheels/5f/dd/89/461065a73be61a532ff8599a28e9beef17985c9e9c31e541b4\r\n",
      "Successfully built rouge-score\r\n",
      "Installing collected packages: rouge-score, pycocoevalcap\r\n",
      "Successfully installed pycocoevalcap-1.2 rouge-score-0.1.2\r\n"
     ]
    }
   ],
   "source": [
    "!pip install nltk rouge-score pycocoevalcap"
   ]
  },
  {
   "cell_type": "code",
   "execution_count": 16,
   "id": "f6c42310",
   "metadata": {
    "execution": {
     "iopub.execute_input": "2025-01-02T23:43:36.196033Z",
     "iopub.status.busy": "2025-01-02T23:43:36.195764Z",
     "iopub.status.idle": "2025-01-02T23:43:36.205554Z",
     "shell.execute_reply": "2025-01-02T23:43:36.204922Z"
    },
    "papermill": {
     "duration": 0.017988,
     "end_time": "2025-01-02T23:43:36.206779",
     "exception": false,
     "start_time": "2025-01-02T23:43:36.188791",
     "status": "completed"
    },
    "tags": []
   },
   "outputs": [],
   "source": [
    "from pycocoevalcap.bleu.bleu import Bleu\n",
    "from pycocoevalcap.rouge.rouge import Rouge\n",
    "from pycocoevalcap.cider.cider import Cider\n",
    "from pycocoevalcap.meteor.meteor import Meteor\n",
    "from pycocoevalcap.spice.spice import Spice"
   ]
  },
  {
   "cell_type": "code",
   "execution_count": 17,
   "id": "4eb979fd",
   "metadata": {
    "execution": {
     "iopub.execute_input": "2025-01-02T23:43:36.220507Z",
     "iopub.status.busy": "2025-01-02T23:43:36.220221Z",
     "iopub.status.idle": "2025-01-02T23:43:36.226216Z",
     "shell.execute_reply": "2025-01-02T23:43:36.225626Z"
    },
    "papermill": {
     "duration": 0.013857,
     "end_time": "2025-01-02T23:43:36.227284",
     "exception": false,
     "start_time": "2025-01-02T23:43:36.213427",
     "status": "completed"
    },
    "tags": []
   },
   "outputs": [],
   "source": [
    "def format_inputs_for_eval(hypotheses, references):\n",
    "    \"\"\"\n",
    "    Định dạng lại dữ liệu đầu vào để phù hợp với pycocoevalcap:\n",
    "    - hypotheses: danh sách các câu dự đoán.\n",
    "    - references: danh sách các danh sách câu ground truth.\n",
    "    \"\"\"\n",
    "    gts_dict = {i: refs for i, refs in enumerate(references)}\n",
    "    res_dict = {i: [hyp] for i, hyp in enumerate(hypotheses)}\n",
    "    return gts_dict, res_dict\n",
    "\n",
    "def compute_metrics_with_pycocoevalcap(hypotheses, references):\n",
    "    \"\"\"\n",
    "    Tính toán các metric BLEU, ROUGE, CIDEr, METEOR, SPICE bằng pycocoevalcap.\n",
    "    \"\"\"\n",
    "    gts_dict, res_dict = format_inputs_for_eval(hypotheses, references)\n",
    "    \n",
    "    # Khởi tạo các scorer\n",
    "    bleu_scorer = Bleu(n=4)\n",
    "    rouge_scorer = Rouge()\n",
    "    cider_scorer = Cider()\n",
    "    meteor_scorer = Meteor()\n",
    "    spice_scorer = Spice()\n",
    "    \n",
    "    bleu, _ = bleu_scorer.compute_score(gts=gts_dict, res=res_dict)\n",
    "    \n",
    "    rouge, _ = rouge_scorer.compute_score(gts=gts_dict, res=res_dict)\n",
    "    \n",
    "    cider, _ = cider_scorer.compute_score(gts=gts_dict, res=res_dict)\n",
    "    \n",
    "    meteor, _ = meteor_scorer.compute_score(gts=gts_dict, res=res_dict)\n",
    "    \n",
    "    spice, _ = spice_scorer.compute_score(gts=gts_dict, res=res_dict)\n",
    "    \n",
    "    return {\n",
    "        \"BLEU-1\": bleu[0],\n",
    "        \"BLEU-2\": bleu[1],\n",
    "        \"BLEU-3\": bleu[2],\n",
    "        \"BLEU-4\": bleu[3],\n",
    "        \"ROUGE-L\": rouge,\n",
    "        \"CIDEr\": cider,\n",
    "        \"METEOR\": meteor,\n",
    "        \"SPICE\": spice\n",
    "    }"
   ]
  },
  {
   "cell_type": "code",
   "execution_count": 18,
   "id": "adf559e1",
   "metadata": {
    "execution": {
     "iopub.execute_input": "2025-01-02T23:43:36.240104Z",
     "iopub.status.busy": "2025-01-02T23:43:36.239891Z",
     "iopub.status.idle": "2025-01-02T23:46:34.786369Z",
     "shell.execute_reply": "2025-01-02T23:46:34.785427Z"
    },
    "papermill": {
     "duration": 178.624743,
     "end_time": "2025-01-02T23:46:34.858232",
     "exception": false,
     "start_time": "2025-01-02T23:43:36.233489",
     "status": "completed"
    },
    "tags": []
   },
   "outputs": [
    {
     "name": "stdout",
     "output_type": "stream",
     "text": [
      "Downloading stanford-corenlp-3.6.0 for SPICE ...\n",
      "Progress: 384.5M / 384.5M (100.0%)\r\n",
      "Extracting stanford-corenlp-3.6.0 ...\n",
      "Done.\n",
      "{'testlen': 6342, 'reflen': 6388, 'guess': [6342, 5784, 5226, 4668], 'correct': [4300, 2559, 1431, 811]}\n",
      "ratio: 0.9927989981213223\n"
     ]
    },
    {
     "data": {
      "text/plain": [
       "{'BLEU-1': 0.6731195108466851,\n",
       " 'BLEU-2': 0.5437409866639468,\n",
       " 'BLEU-3': 0.43155363310131817,\n",
       " 'BLEU-4': 0.343131884038921,\n",
       " 'ROUGE-L': 0.5204369228167688,\n",
       " 'CIDEr': 0.8127252747517392,\n",
       " 'METEOR': 0.31941977403138855,\n",
       " 'SPICE': 0.08287945439731345}"
      ]
     },
     "execution_count": 18,
     "metadata": {},
     "output_type": "execute_result"
    }
   ],
   "source": [
    "metrics = compute_metrics_with_pycocoevalcap(hypotheses, references)\n",
    "metrics"
   ]
  }
 ],
 "metadata": {
  "kaggle": {
   "accelerator": "gpu",
   "dataSources": [
    {
     "sourceId": 214942009,
     "sourceType": "kernelVersion"
    }
   ],
   "dockerImageVersionId": 30822,
   "isGpuEnabled": true,
   "isInternetEnabled": true,
   "language": "python",
   "sourceType": "notebook"
  },
  "kernelspec": {
   "display_name": "Python 3",
   "language": "python",
   "name": "python3"
  },
  "language_info": {
   "codemirror_mode": {
    "name": "ipython",
    "version": 3
   },
   "file_extension": ".py",
   "mimetype": "text/x-python",
   "name": "python",
   "nbconvert_exporter": "python",
   "pygments_lexer": "ipython3",
   "version": "3.10.12"
  },
  "papermill": {
   "default_parameters": {},
   "duration": 2707.080625,
   "end_time": "2025-01-02T23:46:37.390652",
   "environment_variables": {},
   "exception": null,
   "input_path": "__notebook__.ipynb",
   "output_path": "__notebook__.ipynb",
   "parameters": {},
   "start_time": "2025-01-02T23:01:30.310027",
   "version": "2.6.0"
  },
  "widgets": {
   "application/vnd.jupyter.widget-state+json": {
    "state": {
     "029a6868048a480dbd3b43773f53ee1f": {
      "model_module": "@jupyter-widgets/base",
      "model_module_version": "2.0.0",
      "model_name": "LayoutModel",
      "state": {
       "_model_module": "@jupyter-widgets/base",
       "_model_module_version": "2.0.0",
       "_model_name": "LayoutModel",
       "_view_count": null,
       "_view_module": "@jupyter-widgets/base",
       "_view_module_version": "2.0.0",
       "_view_name": "LayoutView",
       "align_content": null,
       "align_items": null,
       "align_self": null,
       "border_bottom": null,
       "border_left": null,
       "border_right": null,
       "border_top": null,
       "bottom": null,
       "display": null,
       "flex": null,
       "flex_flow": null,
       "grid_area": null,
       "grid_auto_columns": null,
       "grid_auto_flow": null,
       "grid_auto_rows": null,
       "grid_column": null,
       "grid_gap": null,
       "grid_row": null,
       "grid_template_areas": null,
       "grid_template_columns": null,
       "grid_template_rows": null,
       "height": null,
       "justify_content": null,
       "justify_items": null,
       "left": null,
       "margin": null,
       "max_height": null,
       "max_width": null,
       "min_height": null,
       "min_width": null,
       "object_fit": null,
       "object_position": null,
       "order": null,
       "overflow": null,
       "padding": null,
       "right": null,
       "top": null,
       "visibility": null,
       "width": null
      }
     },
     "08da97e4c9b548f19beb5137cb0c74b7": {
      "model_module": "@jupyter-widgets/base",
      "model_module_version": "2.0.0",
      "model_name": "LayoutModel",
      "state": {
       "_model_module": "@jupyter-widgets/base",
       "_model_module_version": "2.0.0",
       "_model_name": "LayoutModel",
       "_view_count": null,
       "_view_module": "@jupyter-widgets/base",
       "_view_module_version": "2.0.0",
       "_view_name": "LayoutView",
       "align_content": null,
       "align_items": null,
       "align_self": null,
       "border_bottom": null,
       "border_left": null,
       "border_right": null,
       "border_top": null,
       "bottom": null,
       "display": null,
       "flex": null,
       "flex_flow": null,
       "grid_area": null,
       "grid_auto_columns": null,
       "grid_auto_flow": null,
       "grid_auto_rows": null,
       "grid_column": null,
       "grid_gap": null,
       "grid_row": null,
       "grid_template_areas": null,
       "grid_template_columns": null,
       "grid_template_rows": null,
       "height": null,
       "justify_content": null,
       "justify_items": null,
       "left": null,
       "margin": null,
       "max_height": null,
       "max_width": null,
       "min_height": null,
       "min_width": null,
       "object_fit": null,
       "object_position": null,
       "order": null,
       "overflow": null,
       "padding": null,
       "right": null,
       "top": null,
       "visibility": null,
       "width": null
      }
     },
     "135d8bbd2d804c3abdc709df5a96fff3": {
      "model_module": "@jupyter-widgets/controls",
      "model_module_version": "2.0.0",
      "model_name": "ProgressStyleModel",
      "state": {
       "_model_module": "@jupyter-widgets/controls",
       "_model_module_version": "2.0.0",
       "_model_name": "ProgressStyleModel",
       "_view_count": null,
       "_view_module": "@jupyter-widgets/base",
       "_view_module_version": "2.0.0",
       "_view_name": "StyleView",
       "bar_color": null,
       "description_width": ""
      }
     },
     "1a6f2fbaa02e4a72aa4063d9cc5a76e4": {
      "model_module": "@jupyter-widgets/base",
      "model_module_version": "2.0.0",
      "model_name": "LayoutModel",
      "state": {
       "_model_module": "@jupyter-widgets/base",
       "_model_module_version": "2.0.0",
       "_model_name": "LayoutModel",
       "_view_count": null,
       "_view_module": "@jupyter-widgets/base",
       "_view_module_version": "2.0.0",
       "_view_name": "LayoutView",
       "align_content": null,
       "align_items": null,
       "align_self": null,
       "border_bottom": null,
       "border_left": null,
       "border_right": null,
       "border_top": null,
       "bottom": null,
       "display": null,
       "flex": null,
       "flex_flow": null,
       "grid_area": null,
       "grid_auto_columns": null,
       "grid_auto_flow": null,
       "grid_auto_rows": null,
       "grid_column": null,
       "grid_gap": null,
       "grid_row": null,
       "grid_template_areas": null,
       "grid_template_columns": null,
       "grid_template_rows": null,
       "height": null,
       "justify_content": null,
       "justify_items": null,
       "left": null,
       "margin": null,
       "max_height": null,
       "max_width": null,
       "min_height": null,
       "min_width": null,
       "object_fit": null,
       "object_position": null,
       "order": null,
       "overflow": null,
       "padding": null,
       "right": null,
       "top": null,
       "visibility": null,
       "width": null
      }
     },
     "2a69fc28a9d748939128dcc530f57959": {
      "model_module": "@jupyter-widgets/base",
      "model_module_version": "2.0.0",
      "model_name": "LayoutModel",
      "state": {
       "_model_module": "@jupyter-widgets/base",
       "_model_module_version": "2.0.0",
       "_model_name": "LayoutModel",
       "_view_count": null,
       "_view_module": "@jupyter-widgets/base",
       "_view_module_version": "2.0.0",
       "_view_name": "LayoutView",
       "align_content": null,
       "align_items": null,
       "align_self": null,
       "border_bottom": null,
       "border_left": null,
       "border_right": null,
       "border_top": null,
       "bottom": null,
       "display": null,
       "flex": null,
       "flex_flow": null,
       "grid_area": null,
       "grid_auto_columns": null,
       "grid_auto_flow": null,
       "grid_auto_rows": null,
       "grid_column": null,
       "grid_gap": null,
       "grid_row": null,
       "grid_template_areas": null,
       "grid_template_columns": null,
       "grid_template_rows": null,
       "height": null,
       "justify_content": null,
       "justify_items": null,
       "left": null,
       "margin": null,
       "max_height": null,
       "max_width": null,
       "min_height": null,
       "min_width": null,
       "object_fit": null,
       "object_position": null,
       "order": null,
       "overflow": null,
       "padding": null,
       "right": null,
       "top": null,
       "visibility": null,
       "width": null
      }
     },
     "2b81286773df4724abbe101d08ae5229": {
      "model_module": "@jupyter-widgets/controls",
      "model_module_version": "2.0.0",
      "model_name": "HBoxModel",
      "state": {
       "_dom_classes": [],
       "_model_module": "@jupyter-widgets/controls",
       "_model_module_version": "2.0.0",
       "_model_name": "HBoxModel",
       "_view_count": null,
       "_view_module": "@jupyter-widgets/controls",
       "_view_module_version": "2.0.0",
       "_view_name": "HBoxView",
       "box_style": "",
       "children": [
        "IPY_MODEL_54e343a5b75240cfae2bb9fea078d6d3",
        "IPY_MODEL_8b504fd2544d4d8689dcd10a1f4f6cf9",
        "IPY_MODEL_864ac4c4a62a40a5a7d48841455e4ec5"
       ],
       "layout": "IPY_MODEL_36dbf37f2908474ea2dac3228dcd40e8",
       "tabbable": null,
       "tooltip": null
      }
     },
     "34298a051be8428caaf3998f837f884d": {
      "model_module": "@jupyter-widgets/base",
      "model_module_version": "2.0.0",
      "model_name": "LayoutModel",
      "state": {
       "_model_module": "@jupyter-widgets/base",
       "_model_module_version": "2.0.0",
       "_model_name": "LayoutModel",
       "_view_count": null,
       "_view_module": "@jupyter-widgets/base",
       "_view_module_version": "2.0.0",
       "_view_name": "LayoutView",
       "align_content": null,
       "align_items": null,
       "align_self": null,
       "border_bottom": null,
       "border_left": null,
       "border_right": null,
       "border_top": null,
       "bottom": null,
       "display": null,
       "flex": null,
       "flex_flow": null,
       "grid_area": null,
       "grid_auto_columns": null,
       "grid_auto_flow": null,
       "grid_auto_rows": null,
       "grid_column": null,
       "grid_gap": null,
       "grid_row": null,
       "grid_template_areas": null,
       "grid_template_columns": null,
       "grid_template_rows": null,
       "height": null,
       "justify_content": null,
       "justify_items": null,
       "left": null,
       "margin": null,
       "max_height": null,
       "max_width": null,
       "min_height": null,
       "min_width": null,
       "object_fit": null,
       "object_position": null,
       "order": null,
       "overflow": null,
       "padding": null,
       "right": null,
       "top": null,
       "visibility": null,
       "width": null
      }
     },
     "36dbf37f2908474ea2dac3228dcd40e8": {
      "model_module": "@jupyter-widgets/base",
      "model_module_version": "2.0.0",
      "model_name": "LayoutModel",
      "state": {
       "_model_module": "@jupyter-widgets/base",
       "_model_module_version": "2.0.0",
       "_model_name": "LayoutModel",
       "_view_count": null,
       "_view_module": "@jupyter-widgets/base",
       "_view_module_version": "2.0.0",
       "_view_name": "LayoutView",
       "align_content": null,
       "align_items": null,
       "align_self": null,
       "border_bottom": null,
       "border_left": null,
       "border_right": null,
       "border_top": null,
       "bottom": null,
       "display": null,
       "flex": null,
       "flex_flow": null,
       "grid_area": null,
       "grid_auto_columns": null,
       "grid_auto_flow": null,
       "grid_auto_rows": null,
       "grid_column": null,
       "grid_gap": null,
       "grid_row": null,
       "grid_template_areas": null,
       "grid_template_columns": null,
       "grid_template_rows": null,
       "height": null,
       "justify_content": null,
       "justify_items": null,
       "left": null,
       "margin": null,
       "max_height": null,
       "max_width": null,
       "min_height": null,
       "min_width": null,
       "object_fit": null,
       "object_position": null,
       "order": null,
       "overflow": null,
       "padding": null,
       "right": null,
       "top": null,
       "visibility": null,
       "width": null
      }
     },
     "451c3be3ad56413fb900c29c545adb04": {
      "model_module": "@jupyter-widgets/controls",
      "model_module_version": "2.0.0",
      "model_name": "HTMLModel",
      "state": {
       "_dom_classes": [],
       "_model_module": "@jupyter-widgets/controls",
       "_model_module_version": "2.0.0",
       "_model_name": "HTMLModel",
       "_view_count": null,
       "_view_module": "@jupyter-widgets/controls",
       "_view_module_version": "2.0.0",
       "_view_name": "HTMLView",
       "description": "",
       "description_allow_html": false,
       "layout": "IPY_MODEL_029a6868048a480dbd3b43773f53ee1f",
       "placeholder": "​",
       "style": "IPY_MODEL_671dcbd2713e4bb3a8c747071dc79b6c",
       "tabbable": null,
       "tooltip": null,
       "value": " 510M/510M [00:02&lt;00:00, 216MB/s]"
      }
     },
     "46f043450672433ebf456d57d1cc8115": {
      "model_module": "@jupyter-widgets/controls",
      "model_module_version": "2.0.0",
      "model_name": "FloatProgressModel",
      "state": {
       "_dom_classes": [],
       "_model_module": "@jupyter-widgets/controls",
       "_model_module_version": "2.0.0",
       "_model_name": "FloatProgressModel",
       "_view_count": null,
       "_view_module": "@jupyter-widgets/controls",
       "_view_module_version": "2.0.0",
       "_view_name": "ProgressView",
       "bar_style": "success",
       "description": "",
       "description_allow_html": false,
       "layout": "IPY_MODEL_08da97e4c9b548f19beb5137cb0c74b7",
       "max": 510401385.0,
       "min": 0.0,
       "orientation": "horizontal",
       "style": "IPY_MODEL_62c2e46621ec4be4b0457814d175dad7",
       "tabbable": null,
       "tooltip": null,
       "value": 510401385.0
      }
     },
     "54e343a5b75240cfae2bb9fea078d6d3": {
      "model_module": "@jupyter-widgets/controls",
      "model_module_version": "2.0.0",
      "model_name": "HTMLModel",
      "state": {
       "_dom_classes": [],
       "_model_module": "@jupyter-widgets/controls",
       "_model_module_version": "2.0.0",
       "_model_name": "HTMLModel",
       "_view_count": null,
       "_view_module": "@jupyter-widgets/controls",
       "_view_module_version": "2.0.0",
       "_view_name": "HTMLView",
       "description": "",
       "description_allow_html": false,
       "layout": "IPY_MODEL_34298a051be8428caaf3998f837f884d",
       "placeholder": "​",
       "style": "IPY_MODEL_dced41c0af55429c9366bde3b7c94b92",
       "tabbable": null,
       "tooltip": null,
       "value": "tokenizer.json: 100%"
      }
     },
     "5af1ff111b1b4fbaa3975e3019f2f649": {
      "model_module": "@jupyter-widgets/controls",
      "model_module_version": "2.0.0",
      "model_name": "HTMLModel",
      "state": {
       "_dom_classes": [],
       "_model_module": "@jupyter-widgets/controls",
       "_model_module_version": "2.0.0",
       "_model_name": "HTMLModel",
       "_view_count": null,
       "_view_module": "@jupyter-widgets/controls",
       "_view_module_version": "2.0.0",
       "_view_name": "HTMLView",
       "description": "",
       "description_allow_html": false,
       "layout": "IPY_MODEL_bb3120e9bf53414e965c427fe572678b",
       "placeholder": "​",
       "style": "IPY_MODEL_ed7fb9070cb24a5f86fa67c4ba0892d3",
       "tabbable": null,
       "tooltip": null,
       "value": "config.json: 100%"
      }
     },
     "62c2e46621ec4be4b0457814d175dad7": {
      "model_module": "@jupyter-widgets/controls",
      "model_module_version": "2.0.0",
      "model_name": "ProgressStyleModel",
      "state": {
       "_model_module": "@jupyter-widgets/controls",
       "_model_module_version": "2.0.0",
       "_model_name": "ProgressStyleModel",
       "_view_count": null,
       "_view_module": "@jupyter-widgets/base",
       "_view_module_version": "2.0.0",
       "_view_name": "StyleView",
       "bar_color": null,
       "description_width": ""
      }
     },
     "671dcbd2713e4bb3a8c747071dc79b6c": {
      "model_module": "@jupyter-widgets/controls",
      "model_module_version": "2.0.0",
      "model_name": "HTMLStyleModel",
      "state": {
       "_model_module": "@jupyter-widgets/controls",
       "_model_module_version": "2.0.0",
       "_model_name": "HTMLStyleModel",
       "_view_count": null,
       "_view_module": "@jupyter-widgets/base",
       "_view_module_version": "2.0.0",
       "_view_name": "StyleView",
       "background": null,
       "description_width": "",
       "font_size": null,
       "text_color": null
      }
     },
     "7bceb5ca6ed4452f8d79d0cfcf621c01": {
      "model_module": "@jupyter-widgets/base",
      "model_module_version": "2.0.0",
      "model_name": "LayoutModel",
      "state": {
       "_model_module": "@jupyter-widgets/base",
       "_model_module_version": "2.0.0",
       "_model_name": "LayoutModel",
       "_view_count": null,
       "_view_module": "@jupyter-widgets/base",
       "_view_module_version": "2.0.0",
       "_view_name": "LayoutView",
       "align_content": null,
       "align_items": null,
       "align_self": null,
       "border_bottom": null,
       "border_left": null,
       "border_right": null,
       "border_top": null,
       "bottom": null,
       "display": null,
       "flex": null,
       "flex_flow": null,
       "grid_area": null,
       "grid_auto_columns": null,
       "grid_auto_flow": null,
       "grid_auto_rows": null,
       "grid_column": null,
       "grid_gap": null,
       "grid_row": null,
       "grid_template_areas": null,
       "grid_template_columns": null,
       "grid_template_rows": null,
       "height": null,
       "justify_content": null,
       "justify_items": null,
       "left": null,
       "margin": null,
       "max_height": null,
       "max_width": null,
       "min_height": null,
       "min_width": null,
       "object_fit": null,
       "object_position": null,
       "order": null,
       "overflow": null,
       "padding": null,
       "right": null,
       "top": null,
       "visibility": null,
       "width": null
      }
     },
     "8598233fcc9348fe86a019a5eeaec971": {
      "model_module": "@jupyter-widgets/controls",
      "model_module_version": "2.0.0",
      "model_name": "HTMLStyleModel",
      "state": {
       "_model_module": "@jupyter-widgets/controls",
       "_model_module_version": "2.0.0",
       "_model_name": "HTMLStyleModel",
       "_view_count": null,
       "_view_module": "@jupyter-widgets/base",
       "_view_module_version": "2.0.0",
       "_view_name": "StyleView",
       "background": null,
       "description_width": "",
       "font_size": null,
       "text_color": null
      }
     },
     "864ac4c4a62a40a5a7d48841455e4ec5": {
      "model_module": "@jupyter-widgets/controls",
      "model_module_version": "2.0.0",
      "model_name": "HTMLModel",
      "state": {
       "_dom_classes": [],
       "_model_module": "@jupyter-widgets/controls",
       "_model_module_version": "2.0.0",
       "_model_name": "HTMLModel",
       "_view_count": null,
       "_view_module": "@jupyter-widgets/controls",
       "_view_module_version": "2.0.0",
       "_view_name": "HTMLView",
       "description": "",
       "description_allow_html": false,
       "layout": "IPY_MODEL_2a69fc28a9d748939128dcc530f57959",
       "placeholder": "​",
       "style": "IPY_MODEL_86e91f297d3e468bae2820d010729d0f",
       "tabbable": null,
       "tooltip": null,
       "value": " 1.32M/1.32M [00:00&lt;00:00, 10.8MB/s]"
      }
     },
     "8659dbcdbc5f41358fa02f4e4649cc13": {
      "model_module": "@jupyter-widgets/controls",
      "model_module_version": "2.0.0",
      "model_name": "ProgressStyleModel",
      "state": {
       "_model_module": "@jupyter-widgets/controls",
       "_model_module_version": "2.0.0",
       "_model_name": "ProgressStyleModel",
       "_view_count": null,
       "_view_module": "@jupyter-widgets/base",
       "_view_module_version": "2.0.0",
       "_view_name": "StyleView",
       "bar_color": null,
       "description_width": ""
      }
     },
     "86e91f297d3e468bae2820d010729d0f": {
      "model_module": "@jupyter-widgets/controls",
      "model_module_version": "2.0.0",
      "model_name": "HTMLStyleModel",
      "state": {
       "_model_module": "@jupyter-widgets/controls",
       "_model_module_version": "2.0.0",
       "_model_name": "HTMLStyleModel",
       "_view_count": null,
       "_view_module": "@jupyter-widgets/base",
       "_view_module_version": "2.0.0",
       "_view_name": "StyleView",
       "background": null,
       "description_width": "",
       "font_size": null,
       "text_color": null
      }
     },
     "8b504fd2544d4d8689dcd10a1f4f6cf9": {
      "model_module": "@jupyter-widgets/controls",
      "model_module_version": "2.0.0",
      "model_name": "FloatProgressModel",
      "state": {
       "_dom_classes": [],
       "_model_module": "@jupyter-widgets/controls",
       "_model_module_version": "2.0.0",
       "_model_name": "FloatProgressModel",
       "_view_count": null,
       "_view_module": "@jupyter-widgets/controls",
       "_view_module_version": "2.0.0",
       "_view_name": "ProgressView",
       "bar_style": "success",
       "description": "",
       "description_allow_html": false,
       "layout": "IPY_MODEL_c6d8929b7c31436a8a1798936d5b7ec9",
       "max": 1320936.0,
       "min": 0.0,
       "orientation": "horizontal",
       "style": "IPY_MODEL_8659dbcdbc5f41358fa02f4e4649cc13",
       "tabbable": null,
       "tooltip": null,
       "value": 1320936.0
      }
     },
     "8d3f1eaa74d24b2f91072da446a58289": {
      "model_module": "@jupyter-widgets/base",
      "model_module_version": "2.0.0",
      "model_name": "LayoutModel",
      "state": {
       "_model_module": "@jupyter-widgets/base",
       "_model_module_version": "2.0.0",
       "_model_name": "LayoutModel",
       "_view_count": null,
       "_view_module": "@jupyter-widgets/base",
       "_view_module_version": "2.0.0",
       "_view_name": "LayoutView",
       "align_content": null,
       "align_items": null,
       "align_self": null,
       "border_bottom": null,
       "border_left": null,
       "border_right": null,
       "border_top": null,
       "bottom": null,
       "display": null,
       "flex": null,
       "flex_flow": null,
       "grid_area": null,
       "grid_auto_columns": null,
       "grid_auto_flow": null,
       "grid_auto_rows": null,
       "grid_column": null,
       "grid_gap": null,
       "grid_row": null,
       "grid_template_areas": null,
       "grid_template_columns": null,
       "grid_template_rows": null,
       "height": null,
       "justify_content": null,
       "justify_items": null,
       "left": null,
       "margin": null,
       "max_height": null,
       "max_width": null,
       "min_height": null,
       "min_width": null,
       "object_fit": null,
       "object_position": null,
       "order": null,
       "overflow": null,
       "padding": null,
       "right": null,
       "top": null,
       "visibility": null,
       "width": null
      }
     },
     "9e714037037040d5b2fe4fa23b6ff129": {
      "model_module": "@jupyter-widgets/controls",
      "model_module_version": "2.0.0",
      "model_name": "HTMLModel",
      "state": {
       "_dom_classes": [],
       "_model_module": "@jupyter-widgets/controls",
       "_model_module_version": "2.0.0",
       "_model_name": "HTMLModel",
       "_view_count": null,
       "_view_module": "@jupyter-widgets/controls",
       "_view_module_version": "2.0.0",
       "_view_name": "HTMLView",
       "description": "",
       "description_allow_html": false,
       "layout": "IPY_MODEL_c5a8bdf4260640d69211cd4a3385177e",
       "placeholder": "​",
       "style": "IPY_MODEL_8598233fcc9348fe86a019a5eeaec971",
       "tabbable": null,
       "tooltip": null,
       "value": " 831/831 [00:00&lt;00:00, 74.8kB/s]"
      }
     },
     "ae912bd145ba49a39a604e0b5cd9fd9b": {
      "model_module": "@jupyter-widgets/controls",
      "model_module_version": "2.0.0",
      "model_name": "HBoxModel",
      "state": {
       "_dom_classes": [],
       "_model_module": "@jupyter-widgets/controls",
       "_model_module_version": "2.0.0",
       "_model_name": "HBoxModel",
       "_view_count": null,
       "_view_module": "@jupyter-widgets/controls",
       "_view_module_version": "2.0.0",
       "_view_name": "HBoxView",
       "box_style": "",
       "children": [
        "IPY_MODEL_c6dcec8319364bf79fb2e67e5f66d731",
        "IPY_MODEL_46f043450672433ebf456d57d1cc8115",
        "IPY_MODEL_451c3be3ad56413fb900c29c545adb04"
       ],
       "layout": "IPY_MODEL_b7b0652966af496f8734fb0d1a166c7e",
       "tabbable": null,
       "tooltip": null
      }
     },
     "b7b0652966af496f8734fb0d1a166c7e": {
      "model_module": "@jupyter-widgets/base",
      "model_module_version": "2.0.0",
      "model_name": "LayoutModel",
      "state": {
       "_model_module": "@jupyter-widgets/base",
       "_model_module_version": "2.0.0",
       "_model_name": "LayoutModel",
       "_view_count": null,
       "_view_module": "@jupyter-widgets/base",
       "_view_module_version": "2.0.0",
       "_view_name": "LayoutView",
       "align_content": null,
       "align_items": null,
       "align_self": null,
       "border_bottom": null,
       "border_left": null,
       "border_right": null,
       "border_top": null,
       "bottom": null,
       "display": null,
       "flex": null,
       "flex_flow": null,
       "grid_area": null,
       "grid_auto_columns": null,
       "grid_auto_flow": null,
       "grid_auto_rows": null,
       "grid_column": null,
       "grid_gap": null,
       "grid_row": null,
       "grid_template_areas": null,
       "grid_template_columns": null,
       "grid_template_rows": null,
       "height": null,
       "justify_content": null,
       "justify_items": null,
       "left": null,
       "margin": null,
       "max_height": null,
       "max_width": null,
       "min_height": null,
       "min_width": null,
       "object_fit": null,
       "object_position": null,
       "order": null,
       "overflow": null,
       "padding": null,
       "right": null,
       "top": null,
       "visibility": null,
       "width": null
      }
     },
     "bb3120e9bf53414e965c427fe572678b": {
      "model_module": "@jupyter-widgets/base",
      "model_module_version": "2.0.0",
      "model_name": "LayoutModel",
      "state": {
       "_model_module": "@jupyter-widgets/base",
       "_model_module_version": "2.0.0",
       "_model_name": "LayoutModel",
       "_view_count": null,
       "_view_module": "@jupyter-widgets/base",
       "_view_module_version": "2.0.0",
       "_view_name": "LayoutView",
       "align_content": null,
       "align_items": null,
       "align_self": null,
       "border_bottom": null,
       "border_left": null,
       "border_right": null,
       "border_top": null,
       "bottom": null,
       "display": null,
       "flex": null,
       "flex_flow": null,
       "grid_area": null,
       "grid_auto_columns": null,
       "grid_auto_flow": null,
       "grid_auto_rows": null,
       "grid_column": null,
       "grid_gap": null,
       "grid_row": null,
       "grid_template_areas": null,
       "grid_template_columns": null,
       "grid_template_rows": null,
       "height": null,
       "justify_content": null,
       "justify_items": null,
       "left": null,
       "margin": null,
       "max_height": null,
       "max_width": null,
       "min_height": null,
       "min_width": null,
       "object_fit": null,
       "object_position": null,
       "order": null,
       "overflow": null,
       "padding": null,
       "right": null,
       "top": null,
       "visibility": null,
       "width": null
      }
     },
     "c47e5a8fabcd4e17abba4686c280ce06": {
      "model_module": "@jupyter-widgets/controls",
      "model_module_version": "2.0.0",
      "model_name": "FloatProgressModel",
      "state": {
       "_dom_classes": [],
       "_model_module": "@jupyter-widgets/controls",
       "_model_module_version": "2.0.0",
       "_model_name": "FloatProgressModel",
       "_view_count": null,
       "_view_module": "@jupyter-widgets/controls",
       "_view_module_version": "2.0.0",
       "_view_name": "ProgressView",
       "bar_style": "success",
       "description": "",
       "description_allow_html": false,
       "layout": "IPY_MODEL_8d3f1eaa74d24b2f91072da446a58289",
       "max": 831.0,
       "min": 0.0,
       "orientation": "horizontal",
       "style": "IPY_MODEL_135d8bbd2d804c3abdc709df5a96fff3",
       "tabbable": null,
       "tooltip": null,
       "value": 831.0
      }
     },
     "c5a8bdf4260640d69211cd4a3385177e": {
      "model_module": "@jupyter-widgets/base",
      "model_module_version": "2.0.0",
      "model_name": "LayoutModel",
      "state": {
       "_model_module": "@jupyter-widgets/base",
       "_model_module_version": "2.0.0",
       "_model_name": "LayoutModel",
       "_view_count": null,
       "_view_module": "@jupyter-widgets/base",
       "_view_module_version": "2.0.0",
       "_view_name": "LayoutView",
       "align_content": null,
       "align_items": null,
       "align_self": null,
       "border_bottom": null,
       "border_left": null,
       "border_right": null,
       "border_top": null,
       "bottom": null,
       "display": null,
       "flex": null,
       "flex_flow": null,
       "grid_area": null,
       "grid_auto_columns": null,
       "grid_auto_flow": null,
       "grid_auto_rows": null,
       "grid_column": null,
       "grid_gap": null,
       "grid_row": null,
       "grid_template_areas": null,
       "grid_template_columns": null,
       "grid_template_rows": null,
       "height": null,
       "justify_content": null,
       "justify_items": null,
       "left": null,
       "margin": null,
       "max_height": null,
       "max_width": null,
       "min_height": null,
       "min_width": null,
       "object_fit": null,
       "object_position": null,
       "order": null,
       "overflow": null,
       "padding": null,
       "right": null,
       "top": null,
       "visibility": null,
       "width": null
      }
     },
     "c6d8929b7c31436a8a1798936d5b7ec9": {
      "model_module": "@jupyter-widgets/base",
      "model_module_version": "2.0.0",
      "model_name": "LayoutModel",
      "state": {
       "_model_module": "@jupyter-widgets/base",
       "_model_module_version": "2.0.0",
       "_model_name": "LayoutModel",
       "_view_count": null,
       "_view_module": "@jupyter-widgets/base",
       "_view_module_version": "2.0.0",
       "_view_name": "LayoutView",
       "align_content": null,
       "align_items": null,
       "align_self": null,
       "border_bottom": null,
       "border_left": null,
       "border_right": null,
       "border_top": null,
       "bottom": null,
       "display": null,
       "flex": null,
       "flex_flow": null,
       "grid_area": null,
       "grid_auto_columns": null,
       "grid_auto_flow": null,
       "grid_auto_rows": null,
       "grid_column": null,
       "grid_gap": null,
       "grid_row": null,
       "grid_template_areas": null,
       "grid_template_columns": null,
       "grid_template_rows": null,
       "height": null,
       "justify_content": null,
       "justify_items": null,
       "left": null,
       "margin": null,
       "max_height": null,
       "max_width": null,
       "min_height": null,
       "min_width": null,
       "object_fit": null,
       "object_position": null,
       "order": null,
       "overflow": null,
       "padding": null,
       "right": null,
       "top": null,
       "visibility": null,
       "width": null
      }
     },
     "c6dcec8319364bf79fb2e67e5f66d731": {
      "model_module": "@jupyter-widgets/controls",
      "model_module_version": "2.0.0",
      "model_name": "HTMLModel",
      "state": {
       "_dom_classes": [],
       "_model_module": "@jupyter-widgets/controls",
       "_model_module_version": "2.0.0",
       "_model_name": "HTMLModel",
       "_view_count": null,
       "_view_module": "@jupyter-widgets/controls",
       "_view_module_version": "2.0.0",
       "_view_name": "HTMLView",
       "description": "",
       "description_allow_html": false,
       "layout": "IPY_MODEL_1a6f2fbaa02e4a72aa4063d9cc5a76e4",
       "placeholder": "​",
       "style": "IPY_MODEL_dabf8053459249209d59b0116c012a5e",
       "tabbable": null,
       "tooltip": null,
       "value": "pytorch_model.bin: 100%"
      }
     },
     "d315788476dd4823a923e50b47d3ff47": {
      "model_module": "@jupyter-widgets/controls",
      "model_module_version": "2.0.0",
      "model_name": "HBoxModel",
      "state": {
       "_dom_classes": [],
       "_model_module": "@jupyter-widgets/controls",
       "_model_module_version": "2.0.0",
       "_model_name": "HBoxModel",
       "_view_count": null,
       "_view_module": "@jupyter-widgets/controls",
       "_view_module_version": "2.0.0",
       "_view_name": "HBoxView",
       "box_style": "",
       "children": [
        "IPY_MODEL_5af1ff111b1b4fbaa3975e3019f2f649",
        "IPY_MODEL_c47e5a8fabcd4e17abba4686c280ce06",
        "IPY_MODEL_9e714037037040d5b2fe4fa23b6ff129"
       ],
       "layout": "IPY_MODEL_7bceb5ca6ed4452f8d79d0cfcf621c01",
       "tabbable": null,
       "tooltip": null
      }
     },
     "dabf8053459249209d59b0116c012a5e": {
      "model_module": "@jupyter-widgets/controls",
      "model_module_version": "2.0.0",
      "model_name": "HTMLStyleModel",
      "state": {
       "_model_module": "@jupyter-widgets/controls",
       "_model_module_version": "2.0.0",
       "_model_name": "HTMLStyleModel",
       "_view_count": null,
       "_view_module": "@jupyter-widgets/base",
       "_view_module_version": "2.0.0",
       "_view_name": "StyleView",
       "background": null,
       "description_width": "",
       "font_size": null,
       "text_color": null
      }
     },
     "dced41c0af55429c9366bde3b7c94b92": {
      "model_module": "@jupyter-widgets/controls",
      "model_module_version": "2.0.0",
      "model_name": "HTMLStyleModel",
      "state": {
       "_model_module": "@jupyter-widgets/controls",
       "_model_module_version": "2.0.0",
       "_model_name": "HTMLStyleModel",
       "_view_count": null,
       "_view_module": "@jupyter-widgets/base",
       "_view_module_version": "2.0.0",
       "_view_name": "StyleView",
       "background": null,
       "description_width": "",
       "font_size": null,
       "text_color": null
      }
     },
     "ed7fb9070cb24a5f86fa67c4ba0892d3": {
      "model_module": "@jupyter-widgets/controls",
      "model_module_version": "2.0.0",
      "model_name": "HTMLStyleModel",
      "state": {
       "_model_module": "@jupyter-widgets/controls",
       "_model_module_version": "2.0.0",
       "_model_name": "HTMLStyleModel",
       "_view_count": null,
       "_view_module": "@jupyter-widgets/base",
       "_view_module_version": "2.0.0",
       "_view_name": "StyleView",
       "background": null,
       "description_width": "",
       "font_size": null,
       "text_color": null
      }
     }
    },
    "version_major": 2,
    "version_minor": 0
   }
  }
 },
 "nbformat": 4,
 "nbformat_minor": 5
}

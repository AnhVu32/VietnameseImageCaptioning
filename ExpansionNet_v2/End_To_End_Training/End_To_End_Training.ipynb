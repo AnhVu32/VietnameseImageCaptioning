{
  "nbformat": 4,
  "nbformat_minor": 0,
  "metadata": {
    "colab": {
      "provenance": [],
      "machine_shape": "hm",
      "gpuType": "A100"
    },
    "kernelspec": {
      "name": "python3",
      "display_name": "Python 3"
    },
    "language_info": {
      "name": "python"
    },
    "accelerator": "GPU"
  },
  "cells": [
    {
      "cell_type": "code",
      "execution_count": null,
      "metadata": {
        "colab": {
          "base_uri": "https://localhost:8080/"
        },
        "id": "uNG5dm2Swn40",
        "outputId": "f8449824-2b67-4321-b4ca-f490f493220a"
      },
      "outputs": [
        {
          "output_type": "stream",
          "name": "stdout",
          "text": [
            "/usr/local/lib/python3.10/dist-packages/gdown/__main__.py:140: FutureWarning: Option `--id` was deprecated in version 4.3.1 and will be removed in 5.0. You don't need to pass it anymore to use a file ID.\n",
            "  warnings.warn(\n",
            "Downloading...\n",
            "From (original): https://drive.google.com/uc?id=1nOTbTvFJiEfY6VrnKWgMO1WQxv35lVdE\n",
            "From (redirected): https://drive.google.com/uc?id=1nOTbTvFJiEfY6VrnKWgMO1WQxv35lVdE&confirm=t&uuid=54dcdf7d-ffd8-4f84-b744-143d0ad93082\n",
            "To: /content/ExpansionNet_v2.zip\n",
            "100% 5.03G/5.03G [00:58<00:00, 86.0MB/s]\n"
          ]
        }
      ],
      "source": [
        "import gdown\n",
        "!gdown --id 1nOTbTvFJiEfY6VrnKWgMO1WQxv35lVdE"
      ]
    },
    {
      "cell_type": "markdown",
      "source": [
        "https://drive.google.com/file/d/1nOTbTvFJiEfY6VrnKWgMO1WQxv35lVdE/view?usp=sharing"
      ],
      "metadata": {
        "id": "Mv-kU1NdwxqH"
      }
    },
    {
      "cell_type": "code",
      "source": [
        "!unzip -q ExpansionNet_v2.zip"
      ],
      "metadata": {
        "id": "V6R7Hal2w0Al"
      },
      "execution_count": null,
      "outputs": []
    },
    {
      "cell_type": "code",
      "source": [
        "%cd /content/ExpansionNet_v2"
      ],
      "metadata": {
        "colab": {
          "base_uri": "https://localhost:8080/"
        },
        "id": "RZibMAXPw8FD",
        "outputId": "936416c4-b70c-4f8b-ec3a-b6356ebf0d3c"
      },
      "execution_count": null,
      "outputs": [
        {
          "output_type": "stream",
          "name": "stdout",
          "text": [
            "/content/ExpansionNet_v2\n"
          ]
        }
      ]
    },
    {
      "cell_type": "code",
      "source": [
        "!sed -i 's/\\r//' ./eval/get_stanford_models.sh"
      ],
      "metadata": {
        "id": "BfREu8_qxMLD"
      },
      "execution_count": null,
      "outputs": []
    },
    {
      "cell_type": "code",
      "source": [
        "!chmod +x ./eval/get_stanford_models.sh"
      ],
      "metadata": {
        "id": "1xjKeoOexN6M"
      },
      "execution_count": null,
      "outputs": []
    },
    {
      "cell_type": "code",
      "source": [
        "!python train.py --N_enc 3 --N_dec 3  \\\n",
        "    --model_dim 512 --optim_type radam --seed 775533   --sched_type custom_warmup_anneal  \\\n",
        "    --warmup 1 --lr 3e-5 --anneal_coeff 0.55 --anneal_every_epoch 1 --enc_drop 0.3 \\\n",
        "    --dec_drop 0.3 --enc_input_drop 0.3 --dec_input_drop 0.3 --drop_other 0.3  \\\n",
        "    --batch_size 16 --num_accum 3 --num_gpus 1 --ddp_sync_port 12325 --eval_beam_sizes [3]  \\\n",
        "    --save_path ./github_ignore_material/saves/ --save_every_minutes 5 --how_many_checkpoints 1  \\\n",
        "    --is_end_to_end True --images_path ./ktvic_dataset/ --partial_load True \\\n",
        "    --backbone_save_path ./github_ignore_material/raw_data/swin_large_patch4_window12_384_22k.pth \\\n",
        "    --body_save_path ./github_ignore_material/saves/phase2_checkpoint/checkpoint_2024-12-19-10_58_23_epoch7it312bs48_xe_.pth \\\n",
        "    --print_every_iter 10 --eval_every_iter 10\\\n",
        "    --reinforce False --num_epochs 2 > output_file.txt 2>&1"
      ],
      "metadata": {
        "id": "YS9q5umJxUr0"
      },
      "execution_count": null,
      "outputs": []
    }
  ]
}